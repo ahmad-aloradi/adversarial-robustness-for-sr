{
 "cells": [
  {
   "cell_type": "code",
   "execution_count": null,
   "metadata": {},
   "outputs": [],
   "source": [
    "import pandas as pd\n",
    "\n",
    "df = pd.read_csv(r'/home.local/aloradi/logs/eval/runs/2025-01-30_00-43-22/test_scores.csv')\n",
    "df_test = pd.read_csv('/home.local/aloradi/logs/eval/runs/2025-01-30_00-43-22/vpc2025_artifacts/test.csv', sep=\"|\")\n",
    "\n",
    "df['rel_filepath'] = df['audio_path'].str.extract(r'(B3.*)')\n",
    "df = df.merge(df_test[['speaker_id', 'rel_filepath', 'gender', 'recording_duration', 'text']], on='rel_filepath', how='left')"
   ]
  },
  {
   "cell_type": "code",
   "execution_count": null,
   "metadata": {},
   "outputs": [],
   "source": [
    "import numpy as np\n",
    "from speechbrain.utils.metric_stats import EER\n",
    "import torch\n",
    "import matplotlib.pyplot as plt\n",
    "\n",
    "# Compute EER for each enrollment speaker\n",
    "speakers = df['enrollment_id'].unique()\n",
    "genders = df['gender'].unique()\n",
    "eer_results_speaker = {}\n",
    "eer_results_gender = {}\n",
    "\n",
    "for speaker in speakers:\n",
    "    speaker_data = df[df['speaker_id'] == speaker]\n",
    "    scores = speaker_data['score'].values\n",
    "    labels = speaker_data['label'].values\n",
    "    if labels.mean() == 0:\n",
    "        import ipdb; ipdb.set_trace()\n",
    "    eer, _ = EER(torch.tensor(scores), torch.tensor(labels))\n",
    "    eer_results_speaker[speaker.split('_')[-1]] = eer\n",
    "\n",
    "for gender in genders:\n",
    "    speaker_data = df[df['gender'] == gender]\n",
    "    scores = speaker_data['score'].values\n",
    "    labels = speaker_data['label'].values\n",
    "    eer, _ = EER(torch.tensor(scores), torch.tensor(labels))\n",
    "    eer_results_gender[gender] = eer"
   ]
  },
  {
   "cell_type": "code",
   "execution_count": null,
   "metadata": {},
   "outputs": [],
   "source": [
    "# Radar plot\n",
    "labels = list(eer_results_speaker.keys())\n",
    "values = list(eer_results_speaker.values())\n",
    "\n",
    "# Number of variables\n",
    "num_vars = len(labels)\n",
    "\n",
    "# Compute angle of each axis\n",
    "angles = np.linspace(0, 2 * np.pi, num_vars, endpoint=False).tolist()\n",
    "\n",
    "# The plot is a circle, so we need to \"complete the loop\"\n",
    "values += values[:1]\n",
    "angles += angles[:1]\n",
    "\n",
    "fig, ax = plt.subplots(figsize=(6, 6), subplot_kw=dict(polar=True))\n",
    "ax.fill(angles, values, color='red', alpha=0.25)\n",
    "ax.plot(angles, values, color='red', linewidth=2)\n",
    "\n",
    "# Labels\n",
    "ax.set_yticklabels([])\n",
    "ax.set_xticks(angles[:-1])\n",
    "ax.set_xticklabels(labels)\n",
    "\n",
    "# show values per speaker\n",
    "for i in range(num_vars):\n",
    "    angle_rad = angles[i]\n",
    "    angle_deg = angle_rad * 180 / np.pi\n",
    "    ax.text(angle_rad, 1.25, f'{values[i]:.2f}', ha='center', va='center', rotation=angle_deg)\n",
    "\n",
    "plt.show()"
   ]
  }
 ],
 "metadata": {
  "kernelspec": {
   "display_name": "Python (comfort)",
   "language": "python",
   "name": "comfort"
  },
  "language_info": {
   "codemirror_mode": {
    "name": "ipython",
    "version": 3
   },
   "file_extension": ".py",
   "mimetype": "text/x-python",
   "name": "python",
   "nbconvert_exporter": "python",
   "pygments_lexer": "ipython3",
   "version": "3.12.2"
  }
 },
 "nbformat": 4,
 "nbformat_minor": 2
}
